{
 "cells": [
  {
   "cell_type": "code",
   "execution_count": 49,
   "metadata": {
    "collapsed": false
   },
   "outputs": [],
   "source": [
    "#Using pywavelets to remove gaussian motion noise\n",
    "#Authored by: Connor Johnson\n",
    "#Last modified: 2/28/2017 by Anna\n",
    "\n",
    "# file processing\n",
    "import os, ast\n",
    "# signal processing\n",
    "import pywt\n",
    "import numpy as np\n",
    "# visualization\n",
    "import matplotlib.pyplot as plt\n",
    "\n",
    "# Depreciated because I didn't want to install fortran and a whole library for one line of code\n",
    "#from statsmodels.robust import mad\n",
    "\n",
    "def mad(data, axis=None):\n",
    "    # Authored by Anna\n",
    "    # median absolute deviation\n",
    "    return np.median(np.absolute(data - np.median(data,axis)), axis)\n",
    "\n",
    "def waveletSmooth(signal, wavelet=\"db8\", level=1):\n",
    "    \n",
    "    # calc wavelength coefficients\n",
    "    coeff = pywt.wavedec(signal, wavelet, mode=\"per\")\n",
    "    # calc a threshold to exclude outliers beyond one median absolute deviation of gaussian\n",
    "    sigma = mad(coeff[-level])\n",
    "    signal_len = len(signal)\n",
    "    threshold = sigma * np.sqrt(2*np.log(signal_len))\n",
    "    coeff[1:] =(pywt.threshold(i , value=threshold, mode=\"soft\") for i in coeff[1:])\n",
    "    #reconstruct signal\n",
    "    y = pywt.waverec(coeff, wavelet, mode=\"per\")\n",
    "    plt.plot(x, color=\"b\", alpha=0.5)\n",
    "    plt.plot(y, color=\"b\")\n",
    "    plt.title('Filtered signal ')\n",
    "    \n",
    "\n",
    "raw_signal_path = \"\"\"raw_signal/\"\"\"\n",
    "\n",
    "for filename in os.listdir(raw_signal_path):\n",
    "        data = []\n",
    "        if (not filename.endswith('.ipynb_checkpoints')):\n",
    "            \n",
    "            # fetch signal from file\n",
    "            with open(raw_signal_path + filename) as fin:\n",
    "                signal = ast.literal_eval(fin.read())\n",
    "                \n",
    "                # format list of tuples as numpy array\n",
    "                dt=np.dtype('float,float')\n",
    "                signal = np.array(signal, dtype=dt)\n",
    "                \n",
    "            # run smoothing on signal\n",
    "            waveletSmooth(signal, wavelet='db8', level=1)"
   ]
  },
  {
   "cell_type": "code",
   "execution_count": 34,
   "metadata": {
    "collapsed": false
   },
   "outputs": [
    {
     "data": {
      "text/plain": [
       "int"
      ]
     },
     "execution_count": 34,
     "metadata": {},
     "output_type": "execute_result"
    }
   ],
   "source": [
    "type(len(signal))"
   ]
  },
  {
   "cell_type": "code",
   "execution_count": null,
   "metadata": {
    "collapsed": true
   },
   "outputs": [],
   "source": []
  }
 ],
 "metadata": {
  "kernelspec": {
   "display_name": "Python 3",
   "language": "python",
   "name": "python3"
  },
  "language_info": {
   "codemirror_mode": {
    "name": "ipython",
    "version": 3
   },
   "file_extension": ".py",
   "mimetype": "text/x-python",
   "name": "python",
   "nbconvert_exporter": "python",
   "pygments_lexer": "ipython3",
   "version": "3.6.0"
  }
 },
 "nbformat": 4,
 "nbformat_minor": 2
}
