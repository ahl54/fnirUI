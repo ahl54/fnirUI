{
 "cells": [
  {
   "cell_type": "code",
   "execution_count": 3,
   "metadata": {
    "collapsed": false,
    "deletable": true,
    "editable": true
   },
   "outputs": [],
   "source": [
    "%matplotlib inline\n",
    "#Discriminate wavelet reduction of motion noise\n",
    "#Last modified: 4/24/2017 by Anna Lu\n",
    "\n",
    "# file processing\n",
    "import os, ast\n",
    "# signal processing\n",
    "import pywt\n",
    "import numpy as np\n",
    "import math\n",
    "# visualization\n",
    "import matplotlib.pyplot as plt\n",
    "\n",
    "# Depreciated to avoid fortran dependency\n",
    "# from statsmodels.robust import mad\n",
    "\n",
    "def mad(data, axis=None):\n",
    "    # median absolute deviation\n",
    "    return np.median(np.absolute(data - np.median(data,axis)), axis)\n",
    "\n",
    "def waveletSmooth(signal, wavelet, level=1):\n",
    "    # returns y a rectified and smoothed signal\n",
    "    \n",
    "    # multilevel wavelet decomposition generates coefficients\n",
    "    coeff = pywt.wavedec(signal, wavelet, mode=\"per\") #by default last axis is used\n",
    "    # calc a threshold to exclude outliers beyond one median absolute deviation of gaussian\n",
    "    sigma = mad(coeff[-level])\n",
    "    signal_len = len(signal)\n",
    "    threshold = sigma * np.sqrt(2*np.log(signal_len))\n",
    "    # Note: alternative distance metrics can be used to vary the threshold\n",
    "    coeff[1:] =(pywt.threshold(i , value=threshold, mode=\"soft\") for i in coeff[1:])\n",
    "    #reconstruct signal\n",
    "    y = pywt.waverec(coeff, wavelet, mode=\"per\")\n",
    "    return y\n",
    "    \n",
    "def rms(data):\n",
    "    # returns the root mean squared amplitude of the data\n",
    "    baseline = np.median(data)\n",
    "    return np.sqrt(((data - baseline)**2).mean())\n",
    "    \n",
    "def signal_to_noise(signal, noise):\n",
    "    # returns the signal to noise ratio\n",
    "    # assumption: Equal impedance\n",
    "\n",
    "    Asignal = rms(signal)\n",
    "    Anoise = rms(noise)\n",
    "    \n",
    "    if Anoise == 0:\n",
    "        SNRdb = float('nan')\n",
    "    else:\n",
    "        SNRdb = 10*math.log10((Asignal/Anoise)**2)\n",
    "    return SNRdb\n",
    "    \n",
    "\n",
    "def visualization(raw, filt, filename):\n",
    "        \n",
    "    # Calculate signal to noise ratio\n",
    "    SNRdb = signal_to_noise(raw, filt)\n",
    "        \n",
    "    # set font larger\n",
    "    font = {'family' : 'normal',\n",
    "    'weight' : 'bold',\n",
    "    'size'   : 10}\n",
    "\n",
    "    plt.rc('font', **font)\n",
    "\n",
    "    # visualize\n",
    "    p1, = plt.plot(raw, color=\"b\", alpha=0.5, label='raw_signal')\n",
    "    p2, = plt.plot(filt, color=\"r\", label='filtered')\n",
    "    SNR_report = ('SNRdB: ', '%.3f'%(SNRdb))\n",
    "    plt.legend([p1, p2], ['raw_signal', 'filtered'], loc=0, title=SNR_report)\n",
    "    plt.title('Raw & Filtered Signal Overlay ' + filename )\n",
    "    plt.xlabel('Time (ms)')\n",
    "    plt.ylabel('Amplitude (mV)')\n",
    "    plt.grid()\n",
    "    plt.show()\n",
    "    \n",
    "def load_data(raw_signal_path):\n",
    "\n",
    "    for filename in os.listdir(raw_signal_path):\n",
    "        signal = []\n",
    "        if (not filename.endswith('.ipynb_checkpoints')):\n",
    "\n",
    "            # fetch signal from file\n",
    "            with open(raw_signal_path + filename) as fin:\n",
    "                signal = ast.literal_eval(fin.read())\n",
    "\n",
    "                # format list of tuples (time, amplitude) as numpy array\n",
    "                dt=np.dtype('float,float')\n",
    "                signal = np.array(signal, dtype=dt)\n",
    "                raw = [amplitude[1] for amplitude in signal]\n",
    "                print(type(raw))\n",
    "                print(np.size(raw))\n",
    "            fin.close()\n",
    "    \n",
    "            wavelet_type = 'db2' # Daubechies wavelet mapping\n",
    "            # Two part gaussian wavelet decomposition on amplitudes\n",
    "            # f(t) = y(t) + e(t), where y(t) is the signal and e(t) is the noise\n",
    "            # smoothing level maxes out at 7\n",
    "            filt = waveletSmooth(raw, wavelet_type, level=7)\n",
    "\n",
    "            visualization(raw, filt, filename)\n"
   ]
  },
  {
   "cell_type": "code",
   "execution_count": 4,
   "metadata": {
    "collapsed": false,
    "deletable": true,
    "editable": true
   },
   "outputs": [
    {
     "name": "stdout",
     "output_type": "stream",
     "text": [
      "<class 'list'>\n",
      "1544\n"
     ]
    },
    {
     "ename": "ValueError",
     "evalue": "Invalid wavelet name.",
     "output_type": "error",
     "traceback": [
      "\u001b[1;31m---------------------------------------------------------------------------\u001b[0m",
      "\u001b[1;31mValueError\u001b[0m                                Traceback (most recent call last)",
      "\u001b[1;32m<ipython-input-4-ffaa049d479a>\u001b[0m in \u001b[0;36m<module>\u001b[1;34m()\u001b[0m\n\u001b[0;32m      1\u001b[0m \u001b[0mraw_signal_path\u001b[0m \u001b[1;33m=\u001b[0m \u001b[1;34m\"\"\"raw_signal/\"\"\"\u001b[0m\u001b[1;33m\u001b[0m\u001b[0m\n\u001b[1;32m----> 2\u001b[1;33m \u001b[0mload_data\u001b[0m\u001b[1;33m(\u001b[0m\u001b[0mraw_signal_path\u001b[0m\u001b[1;33m)\u001b[0m\u001b[1;33m\u001b[0m\u001b[0m\n\u001b[0m",
      "\u001b[1;32m<ipython-input-3-d17a9e9f806c>\u001b[0m in \u001b[0;36mload_data\u001b[1;34m(raw_signal_path)\u001b[0m\n\u001b[0;32m     98\u001b[0m             \u001b[1;31m# f(t) = y(t) + e(t), where y(t) is the signal and e(t) is the noise\u001b[0m\u001b[1;33m\u001b[0m\u001b[1;33m\u001b[0m\u001b[0m\n\u001b[0;32m     99\u001b[0m             \u001b[1;31m# smoothing level maxes out at 7\u001b[0m\u001b[1;33m\u001b[0m\u001b[1;33m\u001b[0m\u001b[0m\n\u001b[1;32m--> 100\u001b[1;33m             \u001b[0mfilt\u001b[0m \u001b[1;33m=\u001b[0m \u001b[0mwaveletSmooth\u001b[0m\u001b[1;33m(\u001b[0m\u001b[0mraw\u001b[0m\u001b[1;33m,\u001b[0m \u001b[0mwavelet_type\u001b[0m\u001b[1;33m,\u001b[0m \u001b[0mlevel\u001b[0m\u001b[1;33m=\u001b[0m\u001b[1;36m7\u001b[0m\u001b[1;33m)\u001b[0m\u001b[1;33m\u001b[0m\u001b[0m\n\u001b[0m\u001b[0;32m    101\u001b[0m \u001b[1;33m\u001b[0m\u001b[0m\n\u001b[0;32m    102\u001b[0m             \u001b[0mvisualization\u001b[0m\u001b[1;33m(\u001b[0m\u001b[0mraw\u001b[0m\u001b[1;33m,\u001b[0m \u001b[0mfilt\u001b[0m\u001b[1;33m,\u001b[0m \u001b[0mfilename\u001b[0m\u001b[1;33m)\u001b[0m\u001b[1;33m\u001b[0m\u001b[0m\n",
      "\u001b[1;32m<ipython-input-3-d17a9e9f806c>\u001b[0m in \u001b[0;36mwaveletSmooth\u001b[1;34m(signal, wavelet, level)\u001b[0m\n\u001b[0;32m     23\u001b[0m \u001b[1;33m\u001b[0m\u001b[0m\n\u001b[0;32m     24\u001b[0m     \u001b[1;31m# multilevel wavelet decomposition generates coefficients\u001b[0m\u001b[1;33m\u001b[0m\u001b[1;33m\u001b[0m\u001b[0m\n\u001b[1;32m---> 25\u001b[1;33m     \u001b[0mcoeff\u001b[0m \u001b[1;33m=\u001b[0m \u001b[0mpywt\u001b[0m\u001b[1;33m.\u001b[0m\u001b[0mwavedec\u001b[0m\u001b[1;33m(\u001b[0m\u001b[0msignal\u001b[0m\u001b[1;33m,\u001b[0m \u001b[0mwavelet\u001b[0m\u001b[1;33m,\u001b[0m \u001b[0mmode\u001b[0m\u001b[1;33m=\u001b[0m\u001b[1;34m\"per\"\u001b[0m\u001b[1;33m)\u001b[0m \u001b[1;31m#by default last axis is used\u001b[0m\u001b[1;33m\u001b[0m\u001b[0m\n\u001b[0m\u001b[0;32m     26\u001b[0m     \u001b[1;31m# calc a threshold to exclude outliers beyond one median absolute deviation of gaussian\u001b[0m\u001b[1;33m\u001b[0m\u001b[1;33m\u001b[0m\u001b[0m\n\u001b[0;32m     27\u001b[0m     \u001b[0msigma\u001b[0m \u001b[1;33m=\u001b[0m \u001b[0mmad\u001b[0m\u001b[1;33m(\u001b[0m\u001b[0mcoeff\u001b[0m\u001b[1;33m[\u001b[0m\u001b[1;33m-\u001b[0m\u001b[0mlevel\u001b[0m\u001b[1;33m]\u001b[0m\u001b[1;33m)\u001b[0m\u001b[1;33m\u001b[0m\u001b[0m\n",
      "\u001b[1;32mc:\\users\\anna\\appdata\\local\\programs\\python\\python36-32\\lib\\site-packages\\pywt\\_multilevel.py\u001b[0m in \u001b[0;36mwavedec\u001b[1;34m(data, wavelet, mode, level, axis)\u001b[0m\n\u001b[0;32m     85\u001b[0m \u001b[1;33m\u001b[0m\u001b[0m\n\u001b[0;32m     86\u001b[0m     \u001b[1;32mif\u001b[0m \u001b[1;32mnot\u001b[0m \u001b[0misinstance\u001b[0m\u001b[1;33m(\u001b[0m\u001b[0mwavelet\u001b[0m\u001b[1;33m,\u001b[0m \u001b[0mWavelet\u001b[0m\u001b[1;33m)\u001b[0m\u001b[1;33m:\u001b[0m\u001b[1;33m\u001b[0m\u001b[0m\n\u001b[1;32m---> 87\u001b[1;33m         \u001b[0mwavelet\u001b[0m \u001b[1;33m=\u001b[0m \u001b[0mWavelet\u001b[0m\u001b[1;33m(\u001b[0m\u001b[0mwavelet\u001b[0m\u001b[1;33m)\u001b[0m\u001b[1;33m\u001b[0m\u001b[0m\n\u001b[0m\u001b[0;32m     88\u001b[0m \u001b[1;33m\u001b[0m\u001b[0m\n\u001b[0;32m     89\u001b[0m     \u001b[1;32mtry\u001b[0m\u001b[1;33m:\u001b[0m\u001b[1;33m\u001b[0m\u001b[0m\n",
      "\u001b[1;32mpywt/_extensions/_pywt.pyx\u001b[0m in \u001b[0;36mpywt._extensions._pywt.Wavelet.__cinit__ (pywt\\_extensions\\_pywt.c:5911)\u001b[1;34m()\u001b[0m\n",
      "\u001b[1;31mValueError\u001b[0m: Invalid wavelet name."
     ]
    }
   ],
   "source": [
    "raw_signal_path = \"\"\"raw_signal/\"\"\"\n",
    "load_data(raw_signal_path)"
   ]
  },
  {
   "cell_type": "code",
   "execution_count": null,
   "metadata": {
    "collapsed": true,
    "deletable": true,
    "editable": true
   },
   "outputs": [],
   "source": []
  }
 ],
 "metadata": {
  "kernelspec": {
   "display_name": "Python 3",
   "language": "python",
   "name": "python3"
  },
  "language_info": {
   "codemirror_mode": {
    "name": "ipython",
    "version": 3
   },
   "file_extension": ".py",
   "mimetype": "text/x-python",
   "name": "python",
   "nbconvert_exporter": "python",
   "pygments_lexer": "ipython3",
   "version": "3.6.0"
  }
 },
 "nbformat": 4,
 "nbformat_minor": 2
}
