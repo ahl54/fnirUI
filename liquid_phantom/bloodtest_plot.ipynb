{
 "cells": [
  {
   "cell_type": "code",
   "execution_count": 117,
   "metadata": {
    "collapsed": false,
    "deletable": true,
    "editable": true
   },
   "outputs": [
    {
     "data": {
      "image/png": "[encoded data removed]",
      "text/plain": [
       "<matplotlib.figure.Figure at 0x96157b0>"
      ]
     },
     "metadata": {},
     "output_type": "display_data"
    }
   ],
   "source": [
    "import os\n",
    "import numpy as np\n",
    "import matplotlib.pyplot as plt\n",
    "\n",
    "# visualize one to all\n",
    "# first column x vs other columns\n",
    "\n",
    "#def load_data(raw_signal_path):\n",
    "\n",
    "cwd = os.getcwd() + \"\\\\\"\n",
    "raw_signal_path = cwd\n",
    "    \n",
    "for filename in os.listdir(raw_signal_path):\n",
    "    signal = []\n",
    "    if (filename.endswith('.nir')):\n",
    "\n",
    "        # fetch data as matrix from file\n",
    "        data = np.genfromtxt(cwd + filename, delimiter='\\t')\n",
    "        \n",
    "        num_col = (data.shape[1])\n",
    "        data = data[0:].T\n",
    "        time = data[0]\n",
    "                \n",
    "        # plot one time to other nir signals\n",
    "        # (excluded pass 1 no signal) linear 2, 6, 9, 12, 16, 19, 23, 26\n",
    "        # (excluded pass 2 no signal) linear 7, 14, 16\n",
    "        # vertical spikes 7, 14\n",
    "        # square waveform 15, 17, 18, 20, 22, 24, 25, 27\n",
    "        # filled square waveform 21, 28 \n",
    "        # analysis note A: signals 14 and 28 are more saturated and larger amplitude than the other signals\n",
    "        sqlist = [15, 18, 20, 22, 24, 25, 27, 21]\n",
    "        for col in sqlist:\n",
    "            plt.title('NIR signal square waveform')\n",
    "            plt.plot(time, data[col])\n",
    "        plt.show()\n"
   ]
  },
  {
   "cell_type": "code",
   "execution_count": null,
   "metadata": {
    "collapsed": true,
    "deletable": true,
    "editable": true
   },
   "outputs": [],
   "source": []
  }
 ],
 "metadata": {
  "kernelspec": {
   "display_name": "Python 3",
   "language": "python",
   "name": "python3"
  },
  "language_info": {
   "codemirror_mode": {
    "name": "ipython",
    "version": 3
   },
   "file_extension": ".py",
   "mimetype": "text/x-python",
   "name": "python",
   "nbconvert_exporter": "python",
   "pygments_lexer": "ipython3",
   "version": "3.6.0"
  }
 },
 "nbformat": 4,
 "nbformat_minor": 2
}
