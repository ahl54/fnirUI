{
 "cells": [
  {
   "cell_type": "code",
   "execution_count": 6,
   "metadata": {
    "collapsed": false,
    "deletable": true,
    "editable": true
   },
   "outputs": [],
   "source": [
    "import os\n",
    "import re\n",
    "\n",
    "### This code converts original .nir files to comma delimited file without headers for processing ###\n",
    "\n",
    "# nir file parsing\n",
    "# remove first nine headers and any lines with 'Baseline'\n",
    "cwd = os.getcwd() + \"\\\\\" # current working dir\n",
    "for filename in os.listdir(cwd):\n",
    "    if filename.endswith(\".nir\"):\n",
    "        with open(cwd+filename, 'r') as fin:\n",
    "            data = fin.read().splitlines(True)\n",
    "            newdata = []\n",
    "            for line in data:\n",
    "                if (re.search('[a-zA-Z]', line)):\n",
    "                    pass\n",
    "                elif (line == '\\n'):\n",
    "                    pass\n",
    "                else:\n",
    "                    line = line.replace('\\t', ',')\n",
    "                    newdata.append(line)\n",
    "             \n",
    "        with open(cwd+filename, 'w') as fout:\n",
    "\n",
    "            fout.writelines(newdata) # exclude 'Device stopped' final line\n"
   ]
  },
  {
   "cell_type": "code",
   "execution_count": null,
   "metadata": {
    "collapsed": true,
    "deletable": true,
    "editable": true
   },
   "outputs": [],
   "source": []
  }
 ],
 "metadata": {
  "kernelspec": {
   "display_name": "Python 3",
   "language": "python",
   "name": "python3"
  },
  "language_info": {
   "codemirror_mode": {
    "name": "ipython",
    "version": 3
   },
   "file_extension": ".py",
   "mimetype": "text/x-python",
   "name": "python",
   "nbconvert_exporter": "python",
   "pygments_lexer": "ipython3",
   "version": "3.6.0"
  }
 },
 "nbformat": 4,
 "nbformat_minor": 2
}
