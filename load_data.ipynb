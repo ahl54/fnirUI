{
 "cells": [
  {
   "cell_type": "code",
   "execution_count": 2,
   "metadata": {
    "collapsed": false,
    "deletable": true,
    "editable": true,
    "scrolled": true
   },
   "outputs": [],
   "source": [
    "#Load data from fnir csv\n",
    "#Authored by: Anna Lu\n",
    "#Last modified: 2/26/2017 by Anna\n",
    "\n",
    "import os\n",
    "import csv\n",
    "\n",
    "raw_data_path = \"\"\"raw_data_3000/E1/\"\"\"\n",
    "raw_signal_path = \"\"\"raw_signal/\"\"\"\n",
    "\n",
    "for filename in os.listdir(raw_signal_path):\n",
    "    if filename.endswith(\".csv\"):\n",
    "        data = []\n",
    "        \n",
    "        # read and parse data into signal\n",
    "        with open(raw_data_path + filename) as fin:\n",
    "            print(filename)\n",
    "            cf = csv.reader(fin)\n",
    "            try:\n",
    "                for row in cf:\n",
    "                    amplitude = float(row[2].strip(' \"'))\n",
    "                    if amplitude > 0:\n",
    "                        data.append((float(row[1].strip(' \"')), amplitude)) # build a list of tuples\n",
    "            except:\n",
    "                print(row)\n",
    "        fin.close()\n",
    "        \n",
    "        # write signal to file\n",
    "        with open(raw_signal_path + filename[:-4], 'w') as fout:\n",
    "            fout.write(str(data))\n",
    "        fout.close()"
   ]
  },
  {
   "cell_type": "code",
   "execution_count": null,
   "metadata": {
    "collapsed": true,
    "deletable": true,
    "editable": true
   },
   "outputs": [],
   "source": []
  }
 ],
 "metadata": {
  "kernelspec": {
   "display_name": "Python 3",
   "language": "python",
   "name": "python3"
  },
  "language_info": {
   "codemirror_mode": {
    "name": "ipython",
    "version": 3
   },
   "file_extension": ".py",
   "mimetype": "text/x-python",
   "name": "python",
   "nbconvert_exporter": "python",
   "pygments_lexer": "ipython3",
   "version": "3.6.0"
  }
 },
 "nbformat": 4,
 "nbformat_minor": 2
}
