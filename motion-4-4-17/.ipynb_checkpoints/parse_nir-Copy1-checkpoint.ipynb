{
 "cells": [
  {
   "cell_type": "code",
   "execution_count": 21,
   "metadata": {
    "collapsed": false,
    "deletable": true,
    "editable": true
   },
   "outputs": [],
   "source": [
    "# isolate nir files only\n",
    "# if motion folder contains a mix of .nir, .oxy, .dat files\n",
    "\n",
    "import os\n",
    "\n",
    "motion_path = os.getcwd()+\"\\\\\"\n",
    "nir_path = \"\"\"nir\\\\\"\"\"\n",
    "\n",
    "# move .nir files to output path\n",
    "for filename in os.listdir(motion_path):\n",
    "    if filename.endswith(\".nir\"):\n",
    "        print(filename)\n",
    "        os.rename(motion_path + filename, nir_path + filename)"
   ]
  },
  {
   "cell_type": "code",
   "execution_count": 67,
   "metadata": {
    "collapsed": false,
    "deletable": true,
    "editable": true
   },
   "outputs": [],
   "source": [
    "# nir file parsing\n",
    "# remove first nine headers and any lines with 'Baseline'\n",
    "cwd = motion_path + nir_path # current working dir\n",
    "for filename in os.listdir(cwd):\n",
    "    if filename.endswith(\".nir\"):\n",
    "        with open(cwd+filename, 'r') as fin:\n",
    "            data = fin.read().splitlines(True)\n",
    "            newdata = []\n",
    "            for line in data:\n",
    "                if (re.search('[a-zA-Z]', line)):\n",
    "                    pass\n",
    "                elif (line == '\\n'):\n",
    "                    pass\n",
    "                else:\n",
    "                    line = line.replace('\\t', ',')\n",
    "                    newdata.append(line)\n",
    "                    \n",
    "        with open(cwd+filename, 'w') as fout:\n",
    "\n",
    "            fout.writelines(newdata) # exclude 'Device stopped' final line\n"
   ]
  },
  {
   "cell_type": "code",
   "execution_count": 72,
   "metadata": {
    "collapsed": false,
    "deletable": true,
    "editable": true
   },
   "outputs": [
    {
     "ename": "SyntaxError",
     "evalue": "unexpected EOF while parsing (<ipython-input-72-a89537cdcbff>, line 5)",
     "output_type": "error",
     "traceback": [
      "\u001b[1;36m  File \u001b[1;32m\"<ipython-input-72-a89537cdcbff>\"\u001b[1;36m, line \u001b[1;32m5\u001b[0m\n\u001b[1;33m    # nir aggregate data into one file\u001b[0m\n\u001b[1;37m                                      ^\u001b[0m\n\u001b[1;31mSyntaxError\u001b[0m\u001b[1;31m:\u001b[0m unexpected EOF while parsing\n"
     ]
    }
   ],
   "source": [
    "# append zeros column to non-motion\n",
    "for i in range(0, 20):\n",
    "    \n",
    "\n",
    "# nir aggregate data into one file\n"
   ]
  },
  {
   "cell_type": "code",
   "execution_count": null,
   "metadata": {
    "collapsed": true,
    "deletable": true,
    "editable": true
   },
   "outputs": [],
   "source": []
  }
 ],
 "metadata": {
  "kernelspec": {
   "display_name": "Python 3",
   "language": "python",
   "name": "python3"
  },
  "language_info": {
   "codemirror_mode": {
    "name": "ipython",
    "version": 3
   },
   "file_extension": ".py",
   "mimetype": "text/x-python",
   "name": "python",
   "nbconvert_exporter": "python",
   "pygments_lexer": "ipython3",
   "version": "3.6.0"
  }
 },
 "nbformat": 4,
 "nbformat_minor": 2
}
