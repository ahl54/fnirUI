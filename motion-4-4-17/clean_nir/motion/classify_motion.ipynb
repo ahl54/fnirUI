{
 "cells": [
  {
   "cell_type": "code",
   "execution_count": 8,
   "metadata": {
    "collapsed": false,
    "deletable": true,
    "editable": true
   },
   "outputs": [],
   "source": [
    "import os\n",
    "\n",
    "cwd = os.getcwd()+\"\\\\\"\n",
    "\n",
    "for filename in os.listdir(cwd):\n",
    "    if filename.endswith(\".nir\"):\n",
    "        data = []\n",
    "        with open(cwd+filename, 'r') as fin:\n",
    "            for line in fin:\n",
    "                line = line.rstrip('\\n') + ',1' + '\\n'\n",
    "                data.append(line)\n",
    "        with open(cwd+filename, 'w') as fout:\n",
    "            fout.writelines(data)"
   ]
  },
  {
   "cell_type": "code",
   "execution_count": null,
   "metadata": {
    "collapsed": true,
    "deletable": true,
    "editable": true
   },
   "outputs": [],
   "source": []
  }
 ],
 "metadata": {
  "kernelspec": {
   "display_name": "Python 3",
   "language": "python",
   "name": "python3"
  },
  "language_info": {
   "codemirror_mode": {
    "name": "ipython",
    "version": 3
   },
   "file_extension": ".py",
   "mimetype": "text/x-python",
   "name": "python",
   "nbconvert_exporter": "python",
   "pygments_lexer": "ipython3",
   "version": "3.6.0"
  }
 },
 "nbformat": 4,
 "nbformat_minor": 2
}
