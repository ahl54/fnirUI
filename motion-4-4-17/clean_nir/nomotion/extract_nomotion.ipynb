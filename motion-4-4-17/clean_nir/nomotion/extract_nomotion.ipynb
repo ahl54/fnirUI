{
 "cells": [
  {
   "cell_type": "code",
   "execution_count": null,
   "metadata": {
    "collapsed": false
   },
   "outputs": [],
   "source": [
    "# parse last column for even number of columns\n",
    "import os\n",
    "import numpy as np\n",
    "import matplotlib.pyplot as plt\n",
    "\n",
    "cwd = os.getcwd()+\"\\\\\"\n",
    "\n",
    "for filename in os.listdir(cwd):\n",
    "    if filename.endswith(\".nir\"):\n",
    "        with open(cwd+filename, 'r') as fin:\n",
    "            # fetch data as matrix from file\n",
    "            data = np.genfromtxt(cwd + filename, delimiter=',')\n",
    "            numcol = data.shape[1]\n",
    "            data = data[0:].T\n",
    "            time = data[0]\n",
    "            # columnlist [20, 22, 24, 25, 27, 21]\n",
    "        \n",
    "        # visualize\n",
    "        for col in range(1,29):\n",
    "            plt.title('NIR no motion, dataset %d'%(col))\n",
    "            plt.plot(time, data[col])\n",
    "            plt.ylabel('Amplitude (mv)')\n",
    "            plt.xlabel('Time (seconds)')\n",
    "            plt.show()"
   ]
  }
 ],
 "metadata": {
  "kernelspec": {
   "display_name": "Python 3",
   "language": "python",
   "name": "python3"
  },
  "language_info": {
   "codemirror_mode": {
    "name": "ipython",
    "version": 3
   },
   "file_extension": ".py",
   "mimetype": "text/x-python",
   "name": "python",
   "nbconvert_exporter": "python",
   "pygments_lexer": "ipython3",
   "version": "3.6.0"
  }
 },
 "nbformat": 4,
 "nbformat_minor": 2
}
