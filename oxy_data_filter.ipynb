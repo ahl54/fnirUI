{
 "cells": [
  {
   "cell_type": "code",
   "execution_count": null,
   "metadata": {
    "collapsed": true
   },
   "outputs": [],
   "source": [
    "%matplotlib inline\n",
    "#Discriminate wavelet reduction of motion noise\n",
    "#Authored by: Connor Johnson\n",
    "#Last modified: 2/28/2017 by Anna\n",
    "\n",
    "# file processing\n",
    "import os, ast\n",
    "# signal processing\n",
    "import pywt\n",
    "import numpy as np\n",
    "# visualization\n",
    "import matplotlib.pyplot as plt\n",
    "\n",
    "# Depreciated because I didn't want to install fortran and a whole library for one line of code\n",
    "#from statsmodels.robust import mad\n",
    "\n",
    "def mad(data, axis=None):\n",
    "    # Authored by Anna\n",
    "    # median absolute deviation\n",
    "    return np.median(np.absolute(data - np.median(data,axis)), axis)\n",
    "\n",
    "def waveletSmooth(signal, wavelet, level=1):\n",
    "    # returns y a rectified and smoothed signal\n",
    "    \n",
    "    # multilevel wavelet decomposition generates coefficients\n",
    "    coeff = pywt.wavedec(signal, wavelet, mode=\"per\") #by default last axis is used\n",
    "    # calc a threshold to exclude outliers beyond one median absolute deviation of gaussian\n",
    "    sigma = mad(coeff[-level])\n",
    "    signal_len = len(signal)\n",
    "    threshold = sigma * np.sqrt(2*np.log(signal_len))\n",
    "    coeff[1:] =(pywt.threshold(i , value=threshold, mode=\"soft\") for i in coeff[1:])\n",
    "    #reconstruct signal\n",
    "    y = pywt.waverec(coeff, wavelet, mode=\"per\")\n",
    "    return y\n",
    "    "
   ]
  },
  {
   "cell_type": "code",
   "execution_count": 2,
   "metadata": {
    "collapsed": false
   },
   "outputs": [
    {
     "ename": "NameError",
     "evalue": "name 'raw_signal_path' is not defined",
     "output_type": "error",
     "traceback": [
      "\u001b[1;31m---------------------------------------------------------------------------\u001b[0m",
      "\u001b[1;31mNameError\u001b[0m                                 Traceback (most recent call last)",
      "\u001b[1;32m<ipython-input-2-acbbfc08360e>\u001b[0m in \u001b[0;36m<module>\u001b[1;34m()\u001b[0m\n\u001b[0;32m     37\u001b[0m \u001b[0mraw_Oxy_path\u001b[0m \u001b[1;33m=\u001b[0m \u001b[1;34m\"\"\"Oxydata/\"\"\"\u001b[0m\u001b[1;33m\u001b[0m\u001b[0m\n\u001b[0;32m     38\u001b[0m \u001b[1;33m\u001b[0m\u001b[0m\n\u001b[1;32m---> 39\u001b[1;33m \u001b[1;32mfor\u001b[0m \u001b[0mfilename\u001b[0m \u001b[1;32min\u001b[0m \u001b[0mos\u001b[0m\u001b[1;33m.\u001b[0m\u001b[0mlistdir\u001b[0m\u001b[1;33m(\u001b[0m\u001b[0mraw_signal_path\u001b[0m\u001b[1;33m)\u001b[0m\u001b[1;33m:\u001b[0m\u001b[1;33m\u001b[0m\u001b[0m\n\u001b[0m\u001b[0;32m     40\u001b[0m         \u001b[0msignal\u001b[0m \u001b[1;33m=\u001b[0m \u001b[1;33m[\u001b[0m\u001b[1;33m]\u001b[0m\u001b[1;33m\u001b[0m\u001b[0m\n\u001b[0;32m     41\u001b[0m         \u001b[1;32mif\u001b[0m \u001b[1;33m(\u001b[0m\u001b[1;32mnot\u001b[0m \u001b[0mfilename\u001b[0m\u001b[1;33m.\u001b[0m\u001b[0mendswith\u001b[0m\u001b[1;33m(\u001b[0m\u001b[1;34m'.ipynb_checkpoints'\u001b[0m\u001b[1;33m)\u001b[0m\u001b[1;33m)\u001b[0m\u001b[1;33m:\u001b[0m\u001b[1;33m\u001b[0m\u001b[0m\n",
      "\u001b[1;31mNameError\u001b[0m: name 'raw_signal_path' is not defined"
     ]
    }
   ],
   "source": [
    "raw_Oxy_path = \"\"\"Oxydata/\"\"\"\n",
    "\n",
    "for filename in os.listdir(raw_signal_path):\n",
    "        signal = []\n",
    "        if (not filename.endswith('.ipynb_checkpoints')):\n",
    "            \n",
    "            # fetch signal from file\n",
    "            with open(raw_Oxy_path + filename) as fin:\n",
    "                signal = ast.literal_eval(fin.read())\n",
    "                \n",
    "                # format list of tuples (time, amplitude) as numpy array\n",
    "                dt=np.dtype('float,float')\n",
    "                signal = np.array(signal, dtype=dt)\n",
    "                                \n",
    "                amps = [amplitude[1] for amplitude in signal]\n",
    "\n",
    "            fin.close()\n",
    "            \n",
    "            # Eight part gaussian wavelet decomposition on amplitudes\n",
    "            # f(t) = y(t) + e(t), where y(t) is the signal and e(t) is the noise\n",
    "            wavelet_type = 'db8' # Daubechies wavelet mapping\n",
    "            # smoothing level maxes out at 7\n",
    "            y = waveletSmooth(amps, wavelet_type, level=7)\n",
    "            plt.plot(amps, color=\"b\", alpha=0.5)\n",
    "            plt.plot(y, color=\"b\")\n",
    "            plt.title('Raw & Filtered Signal Overlay ' + filename )\n",
    "            plt.grid()\n",
    "            plt.show()"
   ]
  },
  {
   "cell_type": "code",
   "execution_count": null,
   "metadata": {
    "collapsed": true
   },
   "outputs": [],
   "source": []
  }
 ],
 "metadata": {
  "kernelspec": {
   "display_name": "Python 3",
   "language": "python",
   "name": "python3"
  },
  "language_info": {
   "codemirror_mode": {
    "name": "ipython",
    "version": 3
   },
   "file_extension": ".py",
   "mimetype": "text/x-python",
   "name": "python",
   "nbconvert_exporter": "python",
   "pygments_lexer": "ipython3",
   "version": "3.6.0"
  }
 },
 "nbformat": 4,
 "nbformat_minor": 2
}
